{
 "cells": [
  {
   "cell_type": "code",
   "execution_count": 1,
   "id": "74049e27",
   "metadata": {},
   "outputs": [],
   "source": [
    "import openai"
   ]
  },
  {
   "cell_type": "code",
   "execution_count": 2,
   "id": "9fe5a13d",
   "metadata": {},
   "outputs": [],
   "source": [
    "# Set your OpenAI API key\n",
    "openai.api_key = open(\"chatGPT API Key.txt\",'r').read().strip(\"\\n\")\n",
    "# print(openai.api_key)"
   ]
  },
  {
   "cell_type": "code",
   "execution_count": 3,
   "id": "304826d3",
   "metadata": {},
   "outputs": [],
   "source": [
    "def ChatGPTChatBoatFunction(message_history):\n",
    "    print(\"Enter 'Exit' To end the conversation\\n\")\n",
    "    while(True):\n",
    "        # Enter Prompt/Question\n",
    "        enter_prompt = input(\"Question: \")\n",
    "        if enter_prompt.lower() != str(\"exit\"):\n",
    "            message_history.append({\"role\" : \"user\", \"content\" : enter_prompt})\n",
    "            response = openai.ChatCompletion.create(model=\"gpt-3.5-turbo-0613\",  # The GPT-3 engine to use\n",
    "                                            messages = message_history)\n",
    "            answer = response.choices[0].message.content\n",
    "            message_history.append({\"role\" : \"assistant\", \"content\" : answer})\n",
    "            print(\"Answer: \",answer)\n",
    "            print()\n",
    "        else:\n",
    "            print(\"Bye! Thank you for visiting this service\")\n",
    "            break"
   ]
  },
  {
   "cell_type": "code",
   "execution_count": 4,
   "id": "cf63a5f5",
   "metadata": {},
   "outputs": [],
   "source": [
    "def ChatGPTChatBot():\n",
    "    message_history = []\n",
    "    ChatGPTChatBoatFunction(message_history)"
   ]
  },
  {
   "cell_type": "code",
   "execution_count": 5,
   "id": "22054d8a",
   "metadata": {},
   "outputs": [
    {
     "name": "stdout",
     "output_type": "stream",
     "text": [
      "Enter 'Exit' To end the conversation\n",
      "\n",
      "Question: hi\n",
      "Answer:  Hello! How can I assist you today?\n",
      "\n",
      "Question: 2+2=?\n",
      "Answer:  2 + 2 equals 4.\n",
      "\n",
      "Question: add 8\n",
      "Answer:  If you add 8 to 4, the result is 12.\n",
      "\n",
      "Question: exit\n",
      "Bye! Thank you for visiting this service\n"
     ]
    }
   ],
   "source": [
    "ChatGPTChatBot()"
   ]
  },
  {
   "cell_type": "code",
   "execution_count": null,
   "id": "c1865eb7",
   "metadata": {},
   "outputs": [],
   "source": []
  }
 ],
 "metadata": {
  "kernelspec": {
   "display_name": "Python 3 (ipykernel)",
   "language": "python",
   "name": "python3"
  },
  "language_info": {
   "codemirror_mode": {
    "name": "ipython",
    "version": 3
   },
   "file_extension": ".py",
   "mimetype": "text/x-python",
   "name": "python",
   "nbconvert_exporter": "python",
   "pygments_lexer": "ipython3",
   "version": "3.9.12"
  }
 },
 "nbformat": 4,
 "nbformat_minor": 5
}
